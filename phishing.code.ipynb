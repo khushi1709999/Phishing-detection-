{
  "nbformat": 4,
  "nbformat_minor": 0,
  "metadata": {
    "colab": {
      "private_outputs": true,
      "provenance": []
    },
    "kernelspec": {
      "name": "python3",
      "display_name": "Python 3"
    },
    "language_info": {
      "name": "python"
    }
  },
  "cells": [
    {
      "cell_type": "code",
      "execution_count": null,
      "metadata": {
        "id": "PuwaRMxuZIZ6"
      },
      "outputs": [],
      "source": [
        "# Phishing Detection for Non-Web URLs using Intelligent Link Analysis\n",
        "# Step 1: Install dependencies (if not already available in Colab)\n",
        "!pip install tldextract scikit-learn xgboost\n",
        "\n",
        "import pandas as pd\n",
        "import numpy as np\n",
        "import re\n",
        "import tldextract\n",
        "import math\n",
        "from urllib.parse import urlparse\n",
        "from sklearn.model_selection import train_test_split\n",
        "from sklearn.ensemble import RandomForestClassifier\n",
        "from sklearn.metrics import classification_report, confusion_matrix, accuracy_score\n",
        "from xgboost import XGBClassifier\n"
      ]
    },
    {
      "cell_type": "code",
      "source": [
        "# Step 2: Loading of dataset for URLs\n",
        "data = {\n",
        "    \"url\": [\n",
        "        \"ftp://192.168.1.10/malicious/file.exe\",\n",
        "        \"mailto:support@securebank.com\",\n",
        "        \"ftp://phishy-domain.ru/login\",\n",
        "        \"file://C:/Windows/System32/cmd.exe\",\n",
        "        \"sms://+1234567890?body=click%20here\",\n",
        "        \"skype://securecall?user=trusted_contact\"\n",
        "    ],\n",
        "    \"label\": [1, 0, 1, 1, 1, 0]\n",
        "}\n",
        "\n",
        "df = pd.DataFrame(data)\n",
        "print(df.head())"
      ],
      "metadata": {
        "id": "MxpibmILZhoV"
      },
      "execution_count": null,
      "outputs": []
    },
    {
      "cell_type": "code",
      "source": [
        "# Step 3: Feature Extraction\n",
        "def extract_features(url):\n",
        "    features = {}\n",
        "    parsed = urlparse(url)\n",
        "    ext = tldextract.extract(url)\n",
        "\n",
        "    # Basic features\n",
        "    features['url_length'] = len(url)\n",
        "    features['num_digits'] = sum(c.isdigit() for c in url)\n",
        "    features['num_special_chars'] = len(re.findall(r'[\\W_]', url))\n",
        "    features['entropy'] = -(sum((url.count(c)/len(url)) * math.log2(url.count(c)/len(url)) for c in set(url)))\n",
        "\n",
        "    # Protocol-based features\n",
        "    features['is_ftp'] = 1 if parsed.scheme == \"ftp\" else 0\n",
        "    features['is_file'] = 1 if parsed.scheme == \"file\" else 0\n",
        "    features['is_mailto'] = 1 if parsed.scheme == \"mailto\" else 0\n",
        "    features['is_sms'] = 1 if \"sms\" in parsed.scheme else 0\n",
        "    features['is_skype'] = 1 if \"skype\" in parsed.scheme else 0\n",
        "\n",
        "    # Domain-related features\n",
        "    features['has_ip'] = 1 if re.match(r\"^\\d{1,3}(\\.\\d{1,3}){3}$\", ext.domain) else 0\n",
        "    features['subdomain_length'] = len(ext.subdomain)\n",
        "    features['domain_length'] = len(ext.domain)\n",
        "\n",
        "    # Suspicious keywords\n",
        "    suspicious_keywords = ['login', 'verify', 'update', 'secure', 'bank', 'account']\n",
        "    features['has_suspicious_keyword'] = 1 if any(word in url.lower() for word in suspicious_keywords) else 0\n",
        "\n",
        "    return features\n",
        "\n",
        "feature_list = df['url'].apply(extract_features)\n",
        "X = pd.DataFrame(feature_list.tolist())\n",
        "y = df['label']\n",
        "\n",
        "print(\"\\nExtracted Features:\\n\", X.head())\n"
      ],
      "metadata": {
        "id": "e2mYfdEIZm_E"
      },
      "execution_count": null,
      "outputs": []
    },
    {
      "cell_type": "code",
      "source": [
        "# Step 4: Train-Test Split\n",
        "X_train, X_test, y_train, y_test = train_test_split(X, y, test_size=0.3, random_state=42)"
      ],
      "metadata": {
        "id": "Jsi0WjkfZ2ak"
      },
      "execution_count": null,
      "outputs": []
    },
    {
      "cell_type": "code",
      "source": [
        "# Step 5: ML Model (Random Forest + XGBoost)\n",
        "rf_model = RandomForestClassifier(n_estimators=100, random_state=42)\n",
        "rf_model.fit(X_train, y_train)\n",
        "rf_preds = rf_model.predict(X_test)\n",
        "\n",
        "xgb_model = XGBClassifier(use_label_encoder=False, eval_metric='logloss')\n",
        "xgb_model.fit(X_train, y_train)\n",
        "xgb_preds = xgb_model.predict(X_test)"
      ],
      "metadata": {
        "id": "a_OyqMytZ46M"
      },
      "execution_count": null,
      "outputs": []
    },
    {
      "cell_type": "code",
      "source": [
        "# Step 6: Evaluation\n",
        "print(\"\\nRandom Forest Performance:\")\n",
        "print(classification_report(y_test, rf_preds))\n",
        "print(\"Confusion Matrix:\\n\", confusion_matrix(y_test, rf_preds))\n",
        "print(\"Accuracy:\", accuracy_score(y_test, rf_preds))\n",
        "\n",
        "print(\"\\nXGBoost Performance:\")\n",
        "print(classification_report(y_test, xgb_preds))\n",
        "print(\"Confusion Matrix:\\n\", confusion_matrix(y_test, xgb_preds))\n",
        "print(\"Accuracy:\", accuracy_score(y_test, xgb_preds))"
      ],
      "metadata": {
        "id": "72JoEVgRaJrG"
      },
      "execution_count": null,
      "outputs": []
    },
    {
      "cell_type": "code",
      "source": [
        "# Phishing Detection with Visualization\n",
        "import matplotlib.pyplot as plt\n",
        "import seaborn as sns\n",
        "\n",
        "# Class Distribution\n",
        "plt.figure(figsize=(6,4))\n",
        "sns.countplot(x=y, palette=\"Set2\")\n",
        "plt.title(\"Distribution of Legitimate vs Phishing Non-Web URLs\")\n",
        "plt.xlabel(\"Class (0 = Legitimate, 1 = Phishing)\")\n",
        "plt.ylabel(\"Count\")\n",
        "plt.show()\n"
      ],
      "metadata": {
        "id": "YXk2_ttLalVB"
      },
      "execution_count": null,
      "outputs": []
    },
    {
      "cell_type": "code",
      "source": [
        "# Feature Importance (Random Forest)\n",
        "importances = rf_model.feature_importances_\n",
        "feature_names = X.columns\n",
        "feat_importances = pd.Series(importances, index=feature_names).sort_values(ascending=False)\n",
        "\n",
        "plt.figure(figsize=(8,5))\n",
        "sns.barplot(x=feat_importances, y=feat_importances.index, palette=\"viridis\")\n",
        "plt.title(\"Feature Importance for Phishing Detection (Random Forest)\")\n",
        "plt.xlabel(\"Importance Score\")\n",
        "plt.ylabel(\"Features\")\n",
        "plt.show()"
      ],
      "metadata": {
        "id": "mhVdLBfvaqnC"
      },
      "execution_count": null,
      "outputs": []
    },
    {
      "cell_type": "code",
      "source": [
        "# Confusion Matrix Heatmap (XGBoost)\n",
        "cm = confusion_matrix(y_test, xgb_preds)\n",
        "plt.figure(figsize=(5,4))\n",
        "sns.heatmap(cm, annot=True, fmt=\"d\", cmap=\"Blues\", xticklabels=[\"Legit\",\"Phishing\"], yticklabels=[\"Legit\",\"Phishing\"])\n",
        "plt.title(\"Confusion Matrix - XGBoost\")\n",
        "plt.xlabel(\"Predicted\")\n",
        "plt.ylabel(\"Actual\")\n",
        "plt.show()"
      ],
      "metadata": {
        "id": "9qH9Qc97auzw"
      },
      "execution_count": null,
      "outputs": []
    },
    {
      "cell_type": "code",
      "source": [
        "# Example Predictions Visualization\n",
        "sample_df = pd.DataFrame({\"URL\": X_test.index, \"Actual\": y_test.values, \"Predicted\": xgb_preds})\n",
        "sample_df = sample_df.head(10)  # Show only 10 samples\n",
        "\n",
        "plt.figure(figsize=(10,5))\n",
        "sns.scatterplot(data=sample_df, x=range(len(sample_df)), y=\"Actual\", label=\"Actual\", marker=\"o\", s=100)\n",
        "sns.scatterplot(data=sample_df, x=range(len(sample_df)), y=\"Predicted\", label=\"Predicted\", marker=\"X\", s=120)\n",
        "plt.xticks(range(len(sample_df)), sample_df[\"URL\"], rotation=45, ha=\"right\")\n",
        "plt.title(\"Sample Predictions: Actual vs Predicted Classes\")\n",
        "plt.ylabel(\"Class (0=Legit, 1=Phishing)\")\n",
        "plt.legend()\n",
        "plt.tight_layout()\n",
        "plt.show()"
      ],
      "metadata": {
        "id": "LN9QE9XMax6f"
      },
      "execution_count": null,
      "outputs": []
    }
  ]
}